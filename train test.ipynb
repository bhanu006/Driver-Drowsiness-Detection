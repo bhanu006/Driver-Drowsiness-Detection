{
 "cells": [
  {
   "cell_type": "code",
   "execution_count": null,
   "id": "c8006c95",
   "metadata": {},
   "outputs": [],
   "source": [
    "import os\n",
    "import shutil\n",
    "from sklearn.model_selection import train_test_split\n",
    "\n",
    "# Set the path to your dataset\n",
    "dataset_path = r'C:\\Users\\Tasneem\\mrl'\n",
    "\n",
    "# Set the paths for the train and test folders\n",
    "train_path = r'C:\\Users\\Tasneem\\mrl\\train'\n",
    "test_path = r'C:\\Users\\Tasneem\\mrl\\test'\n",
    "\n",
    "# Define the ratio for splitting the data (e.g., 80% for training, 20% for testing)\n",
    "test_size = 0.25\n",
    "\n",
    "# List all image files in the open eye and closed eye folders\n",
    "open_eye_images = [f for f in os.listdir(os.path.join(dataset_path, 'open_eye')) if f.endswith('.png')]\n",
    "closed_eye_images = [f for f in os.listdir(os.path.join(dataset_path, 'closed_eye')) if f.endswith('.png')]\n",
    "\n",
    "# Split the data into training and testing sets for each class\n",
    "train_open_eye, test_open_eye = train_test_split(open_eye_images, test_size=test_size, random_state=42)\n",
    "train_closed_eye, test_closed_eye = train_test_split(closed_eye_images, test_size=test_size, random_state=42)\n",
    "\n",
    "# Create train and test folders if they don't exist\n",
    "os.makedirs(os.path.join(train_path, 'open_eye'), exist_ok=True)\n",
    "os.makedirs(os.path.join(test_path, 'open_eye'), exist_ok=True)\n",
    "os.makedirs(os.path.join(train_path, 'closed_eye'), exist_ok=True)\n",
    "os.makedirs(os.path.join(test_path, 'closed_eye'), exist_ok=True)\n",
    "\n",
    "# Move images to the appropriate folders in the train set\n",
    "for image in train_open_eye:\n",
    "    shutil.move(os.path.join(dataset_path, 'open_eye', image), os.path.join(train_path, 'open_eye', image))\n",
    "\n",
    "for image in train_closed_eye:\n",
    "    shutil.move(os.path.join(dataset_path, 'closed_eye', image), os.path.join(train_path, 'closed_eye', image))\n",
    "\n",
    "# Move images to the appropriate folders in the test set\n",
    "for image in test_open_eye:\n",
    "    shutil.move(os.path.join(dataset_path, 'open_eye', image), os.path.join(test_path, 'open_eye', image))\n",
    "\n",
    "for image in test_closed_eye:\n",
    "    shutil.move(os.path.join(dataset_path, 'closed_eye', image), os.path.join(test_path, 'closed_eye', image))\n",
    "\n"
   ]
  },
  {
   "cell_type": "code",
   "execution_count": null,
   "id": "410a345d",
   "metadata": {},
   "outputs": [],
   "source": []
  }
 ],
 "metadata": {
  "kernelspec": {
   "display_name": "Python 3 (ipykernel)",
   "language": "python",
   "name": "python3"
  },
  "language_info": {
   "codemirror_mode": {
    "name": "ipython",
    "version": 3
   },
   "file_extension": ".py",
   "mimetype": "text/x-python",
   "name": "python",
   "nbconvert_exporter": "python",
   "pygments_lexer": "ipython3",
   "version": "3.11.5"
  }
 },
 "nbformat": 4,
 "nbformat_minor": 5
}
