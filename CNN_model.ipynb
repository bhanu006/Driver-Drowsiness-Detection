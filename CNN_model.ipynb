{
  "cells": [
    {
      "cell_type": "code",
      "execution_count": 1,
      "metadata": {
        "colab": {
          "base_uri": "https://localhost:8080/"
        },
        "id": "y7ktsnXtUdPA",
        "outputId": "5cce9291-a360-401d-aab5-5e46946a6a1d"
      },
      "outputs": [
        {
          "name": "stdout",
          "output_type": "stream",
          "text": [
            "Mounted at /content/drive\n"
          ]
        }
      ],
      "source": [
        "from google.colab import drive\n",
        "drive.mount('/content/drive')"
      ]
    },
    {
      "cell_type": "code",
      "execution_count": 2,
      "metadata": {
        "id": "3Dr1RqaMU7c-"
      },
      "outputs": [],
      "source": [
        "\n",
        "#Import the libraries\n",
        "import zipfile\n",
        "import os\n",
        "\n",
        "zip_ref = zipfile.ZipFile('/content/drive/MyDrive/mrl.zip', 'r') #Opens the zip file in read mode\n",
        "zip_ref.extractall('/tmp') #Extracts the files into the /tmp folder\n",
        "zip_ref.close()"
      ]
    },
    {
      "cell_type": "code",
      "execution_count": 3,
      "metadata": {
        "colab": {
          "base_uri": "https://localhost:8080/"
        },
        "id": "pBpWPC-lVY3H",
        "outputId": "21ad8aaf-2965-4152-eec7-d4bffbe31c1d"
      },
      "outputs": [
        {
          "data": {
            "text/plain": [
              "32214"
            ]
          },
          "execution_count": 3,
          "metadata": {},
          "output_type": "execute_result"
        }
      ],
      "source": [
        "len(os.listdir('/tmp/mrl/train/open_eye'))"
      ]
    },
    {
      "cell_type": "code",
      "execution_count": 12,
      "metadata": {
        "id": "BIrTE1KnPul3"
      },
      "outputs": [],
      "source": [
        "import tensorflow as tf\n",
        "import matplotlib.pyplot as plt\n",
        "import cv2\n",
        "import os\n",
        "import numpy as np\n",
        "from tensorflow.keras.preprocessing.image import  ImageDataGenerator\n",
        "from tensorflow.keras.preprocessing import  image\n",
        "from tensorflow.keras.applications.mobilenet_v2 import preprocess_input\n",
        "from tensorflow.keras.applications import MobileNetV2\n",
        "from tensorflow.keras.layers import Input\n",
        "from tensorflow.keras.layers import MaxPooling2D\n",
        "\n",
        "from tensorflow.keras.preprocessing.image import ImageDataGenerator\n",
        "from tensorflow.keras.applications import MobileNetV2\n",
        "from tensorflow.keras.layers import AveragePooling2D, Conv2D, MaxPool2D\n",
        "from tensorflow.keras.layers import Dropout\n",
        "from tensorflow.keras.layers import Flatten\n",
        "from tensorflow.keras.layers import Dense\n",
        "from tensorflow.keras.layers import Input\n",
        "from tensorflow.keras.models import Model, Sequential\n",
        "from tensorflow.keras.optimizers import Adam\n",
        "from tensorflow.keras.applications.mobilenet_v2 import preprocess_input\n",
        "from tensorflow.keras.preprocessing.image import img_to_array\n",
        "from tensorflow.keras.preprocessing.image import load_img\n",
        "from tensorflow.keras.utils import to_categorical\n",
        "from sklearn.preprocessing import LabelBinarizer\n",
        "from sklearn.model_selection import train_test_split\n",
        "from sklearn.metrics import classification_report\n",
        "from imutils import paths\n",
        "import matplotlib.pyplot as plt\n",
        "import numpy as np\n",
        "import os\n",
        "import warnings\n",
        "warnings.filterwarnings('ignore')"
      ]
    },
    {
      "cell_type": "code",
      "execution_count": 5,
      "metadata": {
        "colab": {
          "base_uri": "https://localhost:8080/"
        },
        "id": "P29Mv40BPul5",
        "outputId": "57141e7e-09a3-4add-8629-df1814a0199a"
      },
      "outputs": [
        {
          "name": "stderr",
          "output_type": "stream",
          "text": [
            "WARNING:tensorflow:From <ipython-input-5-17bb7203622b>:1: is_gpu_available (from tensorflow.python.framework.test_util) is deprecated and will be removed in a future version.\n",
            "Instructions for updating:\n",
            "Use `tf.config.list_physical_devices('GPU')` instead.\n"
          ]
        },
        {
          "data": {
            "text/plain": [
              "True"
            ]
          },
          "execution_count": 5,
          "metadata": {},
          "output_type": "execute_result"
        }
      ],
      "source": [
        "tf.test.is_gpu_available()"
      ]
    },
    {
      "cell_type": "code",
      "execution_count": 6,
      "metadata": {
        "id": "djc988zmPul7"
      },
      "outputs": [],
      "source": [
        "batchsize=8"
      ]
    },
    {
      "cell_type": "code",
      "execution_count": 7,
      "metadata": {
        "colab": {
          "base_uri": "https://localhost:8080/"
        },
        "id": "DT1GWGnSPul7",
        "outputId": "e88bf038-6bc3-48e1-c741-65ba83488958"
      },
      "outputs": [
        {
          "name": "stdout",
          "output_type": "stream",
          "text": [
            "Found 50940 images belonging to 2 classes.\n",
            "Found 12733 images belonging to 2 classes.\n"
          ]
        }
      ],
      "source": [
        "train_datagen= ImageDataGenerator(rescale=1./255, rotation_range=0.2,shear_range=0.2,\n",
        "    zoom_range=0.2,width_shift_range=0.2,\n",
        "    height_shift_range=0.2, validation_split=0.2)\n",
        "\n",
        "train_data= train_datagen.flow_from_directory(r'/tmp/mrl/train',\n",
        "                                target_size=(80,80),batch_size=batchsize,class_mode='categorical',subset='training' )\n",
        "\n",
        "validation_data= train_datagen.flow_from_directory(r'/tmp/mrl/train',\n",
        "                                target_size=(80,80),batch_size=batchsize,class_mode='categorical', subset='validation')"
      ]
    },
    {
      "cell_type": "code",
      "execution_count": 8,
      "metadata": {
        "colab": {
          "base_uri": "https://localhost:8080/"
        },
        "id": "tFC0zuRfPul7",
        "outputId": "93700c91-4c19-483d-a2a3-ad052c877b95"
      },
      "outputs": [
        {
          "name": "stdout",
          "output_type": "stream",
          "text": [
            "Found 21225 images belonging to 2 classes.\n"
          ]
        }
      ],
      "source": [
        "test_datagen = ImageDataGenerator(rescale=1./255)\n",
        "\n",
        "test_data = test_datagen.flow_from_directory(r'/tmp/mrl/test',\n",
        "                                target_size=(80,80),batch_size=batchsize,class_mode='categorical')"
      ]
    },
    {
      "cell_type": "code",
      "execution_count": 13,
      "metadata": {
        "id": "J6Ii4GHvPul8"
      },
      "outputs": [],
      "source": [
        "# Creating a Custom CNN Model:\n",
        "model_cnn = Sequential()\n",
        "model_cnn.add(Conv2D(32, (3, 3), activation='relu', input_shape=(80, 80, 3)))\n",
        "model_cnn.add(MaxPooling2D(2, 2))\n",
        "model_cnn.add(Conv2D(64, (3, 3), activation='relu'))\n",
        "model_cnn.add(MaxPooling2D(2, 2))\n",
        "model_cnn.add(Conv2D(128, (3, 3), activation='relu'))\n",
        "model_cnn.add(MaxPooling2D(2, 2))\n",
        "model_cnn.add(Flatten())\n",
        "model_cnn.add(Dense(64, activation='relu'))\n",
        "model_cnn.add(Dropout(0.5))\n",
        "model_cnn.add(Dense(2, activation='softmax'))"
      ]
    },
    {
      "cell_type": "code",
      "execution_count": 14,
      "metadata": {
        "colab": {
          "base_uri": "https://localhost:8080/"
        },
        "id": "grStUlt4Pul8",
        "outputId": "8d4e659d-e9bb-4f40-adf5-977cf8c01f21"
      },
      "outputs": [
        {
          "name": "stdout",
          "output_type": "stream",
          "text": [
            "Model: \"sequential_1\"\n",
            "_________________________________________________________________\n",
            " Layer (type)                Output Shape              Param #   \n",
            "=================================================================\n",
            " conv2d (Conv2D)             (None, 78, 78, 32)        896       \n",
            "                                                                 \n",
            " max_pooling2d (MaxPooling2  (None, 39, 39, 32)        0         \n",
            " D)                                                              \n",
            "                                                                 \n",
            " conv2d_1 (Conv2D)           (None, 37, 37, 64)        18496     \n",
            "                                                                 \n",
            " max_pooling2d_1 (MaxPoolin  (None, 18, 18, 64)        0         \n",
            " g2D)                                                            \n",
            "                                                                 \n",
            " conv2d_2 (Conv2D)           (None, 16, 16, 128)       73856     \n",
            "                                                                 \n",
            " max_pooling2d_2 (MaxPoolin  (None, 8, 8, 128)         0         \n",
            " g2D)                                                            \n",
            "                                                                 \n",
            " flatten (Flatten)           (None, 8192)              0         \n",
            "                                                                 \n",
            " dense (Dense)               (None, 64)                524352    \n",
            "                                                                 \n",
            " dropout (Dropout)           (None, 64)                0         \n",
            "                                                                 \n",
            " dense_1 (Dense)             (None, 2)                 130       \n",
            "                                                                 \n",
            "=================================================================\n",
            "Total params: 617730 (2.36 MB)\n",
            "Trainable params: 617730 (2.36 MB)\n",
            "Non-trainable params: 0 (0.00 Byte)\n",
            "_________________________________________________________________\n"
          ]
        }
      ],
      "source": [
        "model_cnn.summary()"
      ]
    },
    {
      "cell_type": "code",
      "execution_count": 15,
      "metadata": {
        "id": "WbUKTd31Pul9"
      },
      "outputs": [],
      "source": [
        "from tensorflow.keras.callbacks import ModelCheckpoint,EarlyStopping, ReduceLROnPlateau"
      ]
    },
    {
      "cell_type": "code",
      "execution_count": 16,
      "metadata": {
        "id": "0V_7iEs1Pul9"
      },
      "outputs": [],
      "source": [
        "checkpoint = ModelCheckpoint(r'/tmp/mrl/cnn.h5',\n",
        "                            monitor='val_loss',save_best_only=True,verbose=3)\n",
        "\n",
        "earlystop = EarlyStopping(monitor = 'val_loss', patience=7, verbose= 3, restore_best_weights=True)\n",
        "\n",
        "learning_rate = ReduceLROnPlateau(monitor= 'val_loss', patience=3, verbose= 3, )\n",
        "\n",
        "callbacks=[checkpoint,earlystop,learning_rate]"
      ]
    },
    {
      "cell_type": "code",
      "execution_count": null,
      "metadata": {
        "id": "bXwuvpQ7Pul9"
      },
      "outputs": [],
      "source": []
    },
    {
      "cell_type": "code",
      "execution_count": 17,
      "metadata": {
        "colab": {
          "base_uri": "https://localhost:8080/"
        },
        "id": "Mwv1qdhYPul-",
        "outputId": "3f026b50-e3ec-48fc-8008-b882c96c2f61"
      },
      "outputs": [
        {
          "name": "stdout",
          "output_type": "stream",
          "text": [
            "Epoch 1/10\n",
            "6367/6367 [==============================] - ETA: 0s - loss: 0.4043 - accuracy: 0.8080\n",
            "Epoch 1: val_loss improved from inf to 0.57440, saving model to /tmp/mrl/cnn.h5\n",
            "6367/6367 [==============================] - 210s 31ms/step - loss: 0.4043 - accuracy: 0.8080 - val_loss: 0.5744 - val_accuracy: 0.7927 - lr: 0.0010\n",
            "Epoch 2/10\n",
            "6365/6367 [============================>.] - ETA: 0s - loss: 0.1860 - accuracy: 0.9320\n",
            "Epoch 2: val_loss improved from 0.57440 to 0.52547, saving model to /tmp/mrl/cnn.h5\n",
            "6367/6367 [==============================] - 197s 31ms/step - loss: 0.1859 - accuracy: 0.9320 - val_loss: 0.5255 - val_accuracy: 0.8156 - lr: 0.0010\n",
            "Epoch 3/10\n",
            "6366/6367 [============================>.] - ETA: 0s - loss: 0.1478 - accuracy: 0.9461\n",
            "Epoch 3: val_loss improved from 0.52547 to 0.43435, saving model to /tmp/mrl/cnn.h5\n",
            "6367/6367 [==============================] - 201s 32ms/step - loss: 0.1477 - accuracy: 0.9461 - val_loss: 0.4343 - val_accuracy: 0.8624 - lr: 0.0010\n",
            "Epoch 4/10\n",
            "6366/6367 [============================>.] - ETA: 0s - loss: 0.1251 - accuracy: 0.9570\n",
            "Epoch 4: val_loss improved from 0.43435 to 0.35289, saving model to /tmp/mrl/cnn.h5\n",
            "6367/6367 [==============================] - 190s 30ms/step - loss: 0.1251 - accuracy: 0.9570 - val_loss: 0.3529 - val_accuracy: 0.8818 - lr: 0.0010\n",
            "Epoch 5/10\n",
            "6366/6367 [============================>.] - ETA: 0s - loss: 0.1146 - accuracy: 0.9597\n",
            "Epoch 5: val_loss improved from 0.35289 to 0.26018, saving model to /tmp/mrl/cnn.h5\n",
            "6367/6367 [==============================] - 199s 31ms/step - loss: 0.1146 - accuracy: 0.9597 - val_loss: 0.2602 - val_accuracy: 0.9030 - lr: 0.0010\n",
            "Epoch 6/10\n",
            "6366/6367 [============================>.] - ETA: 0s - loss: 0.1075 - accuracy: 0.9636\n",
            "Epoch 6: val_loss did not improve from 0.26018\n",
            "6367/6367 [==============================] - 200s 31ms/step - loss: 0.1075 - accuracy: 0.9636 - val_loss: 0.3792 - val_accuracy: 0.8968 - lr: 0.0010\n",
            "Epoch 7/10\n",
            "6366/6367 [============================>.] - ETA: 0s - loss: 0.0935 - accuracy: 0.9673\n",
            "Epoch 7: val_loss did not improve from 0.26018\n",
            "6367/6367 [==============================] - 193s 30ms/step - loss: 0.0935 - accuracy: 0.9673 - val_loss: 0.3420 - val_accuracy: 0.8937 - lr: 0.0010\n",
            "Epoch 8/10\n",
            "6367/6367 [==============================] - ETA: 0s - loss: 0.0942 - accuracy: 0.9683\n",
            "Epoch 8: val_loss did not improve from 0.26018\n",
            "\n",
            "Epoch 8: ReduceLROnPlateau reducing learning rate to 0.00010000000474974513.\n",
            "6367/6367 [==============================] - 188s 30ms/step - loss: 0.0942 - accuracy: 0.9683 - val_loss: 0.3554 - val_accuracy: 0.8933 - lr: 0.0010\n",
            "Epoch 9/10\n",
            "6365/6367 [============================>.] - ETA: 0s - loss: 0.0702 - accuracy: 0.9765\n",
            "Epoch 9: val_loss improved from 0.26018 to 0.23255, saving model to /tmp/mrl/cnn.h5\n",
            "6367/6367 [==============================] - 197s 31ms/step - loss: 0.0702 - accuracy: 0.9765 - val_loss: 0.2325 - val_accuracy: 0.9228 - lr: 1.0000e-04\n",
            "Epoch 10/10\n",
            "6367/6367 [==============================] - ETA: 0s - loss: 0.0665 - accuracy: 0.9783\n",
            "Epoch 10: val_loss improved from 0.23255 to 0.21693, saving model to /tmp/mrl/cnn.h5\n",
            "6367/6367 [==============================] - 190s 30ms/step - loss: 0.0665 - accuracy: 0.9783 - val_loss: 0.2169 - val_accuracy: 0.9256 - lr: 1.0000e-04\n"
          ]
        }
      ],
      "source": [
        "model_cnn.compile(optimizer='Adam', loss='categorical_crossentropy',metrics=['accuracy'])\n",
        "\n",
        "model_fit_cnn = model_cnn.fit_generator(\n",
        "    train_data,\n",
        "    steps_per_epoch=train_data.samples // batchsize,\n",
        "    validation_data=validation_data,\n",
        "    validation_steps=validation_data.samples // batchsize,\n",
        "    callbacks=callbacks,\n",
        "    epochs=10\n",
        ")"
      ]
    },
    {
      "cell_type": "code",
      "execution_count": null,
      "metadata": {
        "id": "HEhqtszvPul-"
      },
      "outputs": [],
      "source": []
    },
    {
      "cell_type": "code",
      "execution_count": 18,
      "metadata": {
        "colab": {
          "base_uri": "https://localhost:8080/",
          "height": 904
        },
        "id": "TDcbcgTSPul-",
        "outputId": "130ebd55-211b-4c12-e29f-a0336c5859b0"
      },
      "outputs": [
        {
          "data": {
            "image/png": "[encoded data removed]",
            "text/plain": [
              "<Figure size 640x480 with 1 Axes>"
            ]
          },
          "metadata": {},
          "output_type": "display_data"
        },
        {
          "data": {
            "image/png": "[encoded data removed]",
            "text/plain": [
              "<Figure size 640x480 with 1 Axes>"
            ]
          },
          "metadata": {},
          "output_type": "display_data"
        },
        {
          "data": {
            "text/plain": [
              "<Figure size 640x480 with 0 Axes>"
            ]
          },
          "metadata": {},
          "output_type": "display_data"
        }
      ],
      "source": [
        "accuracy = model_fit_cnn.history['accuracy']\n",
        "val_accuracy = model_fit_cnn.history['val_accuracy']\n",
        "loss = model_fit_cnn.history['loss']\n",
        "val_loss = model_fit_cnn.history['val_loss']\n",
        "epochs = range(len(accuracy))\n",
        "\n",
        "\n",
        "\n",
        "plt.title(\"Training Accuracy\")\n",
        "plt.plot(epochs, accuracy, \"b\", label=\"trainning accuracy\")\n",
        "plt.plot(epochs, val_accuracy, \"r\", label=\"validation accuracy\")\n",
        "plt.legend()\n",
        "plt.show()\n",
        "plt.savefig(\"Accuracy.jpg\")\n",
        "\n",
        "\n",
        "plt.title(\"Training Loss \")\n",
        "plt.plot(epochs, loss, \"b\", label=\"trainning loss\")\n",
        "plt.plot(epochs, val_loss, \"r\", label=\"validation loss\")\n",
        "plt.legend()\n",
        "plt.show()\n",
        "plt.savefig(\"Loss.jpg\")"
      ]
    },
    {
      "cell_type": "code",
      "execution_count": null,
      "metadata": {
        "id": "3wYUxX58Pul-"
      },
      "outputs": [],
      "source": [
        "# Model Evaluation"
      ]
    },
    {
      "cell_type": "code",
      "execution_count": null,
      "metadata": {
        "colab": {
          "base_uri": "https://localhost:8080/"
        },
        "id": "Sj6fHNcbPul_",
        "outputId": "c6c51f21-246f-4aac-cc0e-937545e727a0"
      },
      "outputs": [
        {
          "name": "stderr",
          "output_type": "stream",
          "text": [
            "<ipython-input-17-87a1e491e135>:1: UserWarning: `Model.evaluate_generator` is deprecated and will be removed in a future version. Please use `Model.evaluate`, which supports generators.\n",
            "  acc_tr, loss_tr = model.evaluate_generator(train_data)\n"
          ]
        },
        {
          "name": "stdout",
          "output_type": "stream",
          "text": [
            "0.1469082087278366\n",
            "0.9417157173156738\n"
          ]
        }
      ],
      "source": [
        "acc_tr, loss_tr = model.evaluate_generator(train_data)\n",
        "print(acc_tr)\n",
        "print(loss_tr)"
      ]
    },
    {
      "cell_type": "code",
      "execution_count": null,
      "metadata": {
        "colab": {
          "base_uri": "https://localhost:8080/"
        },
        "id": "PSyje4vNPul_",
        "outputId": "342107d2-dd93-4734-a20d-710330edab8f"
      },
      "outputs": [
        {
          "name": "stderr",
          "output_type": "stream",
          "text": [
            "<ipython-input-18-857f2865b528>:1: UserWarning: `Model.evaluate_generator` is deprecated and will be removed in a future version. Please use `Model.evaluate`, which supports generators.\n",
            "  acc_vr, loss_vr = model.evaluate_generator(validation_data)\n"
          ]
        },
        {
          "name": "stdout",
          "output_type": "stream",
          "text": [
            "0.28563758730888367\n",
            "0.8960967659950256\n"
          ]
        }
      ],
      "source": [
        "acc_vr, loss_vr = model.evaluate_generator(validation_data)\n",
        "print(acc_vr)\n",
        "print(loss_vr)"
      ]
    },
    {
      "cell_type": "code",
      "execution_count": null,
      "metadata": {
        "colab": {
          "base_uri": "https://localhost:8080/"
        },
        "id": "sDaGGrpDPul_",
        "outputId": "6f37bb0f-7298-4f72-8991-583071e815ea"
      },
      "outputs": [
        {
          "name": "stderr",
          "output_type": "stream",
          "text": [
            "<ipython-input-19-229e55840385>:1: UserWarning: `Model.evaluate_generator` is deprecated and will be removed in a future version. Please use `Model.evaluate`, which supports generators.\n",
            "  acc_test, loss_test = model.evaluate_generator(test_data)\n"
          ]
        },
        {
          "name": "stdout",
          "output_type": "stream",
          "text": [
            "0.1469082087278366\n",
            "0.9417157173156738\n"
          ]
        }
      ],
      "source": [
        "acc_test, loss_test = model.evaluate_generator(test_data)\n",
        "print(acc_tr)\n",
        "print(loss_tr)"
      ]
    },
    {
      "cell_type": "code",
      "execution_count": null,
      "metadata": {
        "id": "KF0vvLcwPul_"
      },
      "outputs": [],
      "source": []
    },
    {
      "cell_type": "code",
      "execution_count": null,
      "metadata": {
        "id": "fFnTRFwmPul_"
      },
      "outputs": [],
      "source": []
    }
  ],
  "metadata": {
    "accelerator": "GPU",
    "colab": {
      "gpuType": "T4",
      "provenance": []
    },
    "kernelspec": {
      "display_name": "Python 3",
      "name": "python3"
    },
    "language_info": {
      "codemirror_mode": {
        "name": "ipython",
        "version": 3
      },
      "file_extension": ".py",
      "mimetype": "text/x-python",
      "name": "python",
      "nbconvert_exporter": "python",
      "pygments_lexer": "ipython3",
      "version": "3.7.9"
    }
  },
  "nbformat": 4,
  "nbformat_minor": 0
}
