{
  "cells": [
    {
      "cell_type": "code",
      "execution_count": 3,
      "metadata": {
        "colab": {
          "base_uri": "https://localhost:8080/"
        },
        "id": "y7ktsnXtUdPA",
        "outputId": "6c70c64e-923c-42a2-dab9-860c17651037"
      },
      "outputs": [
        {
          "name": "stdout",
          "output_type": "stream",
          "text": [
            "Mounted at /content/drive\n"
          ]
        }
      ],
      "source": [
        "from google.colab import drive\n",
        "drive.mount('/content/drive')"
      ]
    },
    {
      "cell_type": "code",
      "execution_count": 4,
      "metadata": {
        "id": "3Dr1RqaMU7c-"
      },
      "outputs": [],
      "source": [
        "\n",
        "#Import the libraries\n",
        "import zipfile\n",
        "import os\n",
        "\n",
        "zip_ref = zipfile.ZipFile('/content/drive/MyDrive/mrl.zip', 'r') #Opens the zip file in read mode\n",
        "zip_ref.extractall('/tmp') #Extracts the files into the /tmp folder\n",
        "zip_ref.close()"
      ]
    },
    {
      "cell_type": "code",
      "execution_count": 5,
      "metadata": {
        "colab": {
          "base_uri": "https://localhost:8080/"
        },
        "id": "pBpWPC-lVY3H",
        "outputId": "405ad0b8-fa88-46d5-9fa5-8e18a8722cc1"
      },
      "outputs": [
        {
          "data": {
            "text/plain": [
              "32214"
            ]
          },
          "execution_count": 5,
          "metadata": {},
          "output_type": "execute_result"
        }
      ],
      "source": [
        "len(os.listdir('/tmp/mrl/train/open_eye'))"
      ]
    },
    {
      "cell_type": "code",
      "execution_count": 6,
      "metadata": {
        "id": "BIrTE1KnPul3"
      },
      "outputs": [],
      "source": [
        "import tensorflow as tf\n",
        "import matplotlib.pyplot as plt\n",
        "import cv2\n",
        "import os\n",
        "import numpy as np\n",
        "from tensorflow.keras.preprocessing.image import  ImageDataGenerator\n",
        "from tensorflow.keras.preprocessing import  image\n",
        "from tensorflow.keras.applications.mobilenet_v2 import preprocess_input\n",
        "from tensorflow.keras.applications import MobileNetV2\n",
        "from tensorflow.keras.layers import Input\n",
        "from tensorflow.keras.layers import MaxPooling2D\n",
        "\n",
        "from tensorflow.keras.preprocessing.image import ImageDataGenerator\n",
        "from tensorflow.keras.applications import MobileNetV2\n",
        "from tensorflow.keras.layers import AveragePooling2D, Conv2D, MaxPool2D\n",
        "from tensorflow.keras.layers import Dropout\n",
        "from tensorflow.keras.layers import Flatten\n",
        "from tensorflow.keras.layers import Dense\n",
        "from tensorflow.keras.layers import Input\n",
        "from tensorflow.keras.models import Model, Sequential\n",
        "from tensorflow.keras.optimizers import Adam\n",
        "from tensorflow.keras.applications.mobilenet_v2 import preprocess_input\n",
        "from tensorflow.keras.preprocessing.image import img_to_array\n",
        "from tensorflow.keras.preprocessing.image import load_img\n",
        "from tensorflow.keras.utils import to_categorical\n",
        "from sklearn.preprocessing import LabelBinarizer\n",
        "from sklearn.model_selection import train_test_split\n",
        "from sklearn.metrics import classification_report\n",
        "from imutils import paths\n",
        "import matplotlib.pyplot as plt\n",
        "import numpy as np\n",
        "import os\n",
        "import warnings\n",
        "warnings.filterwarnings('ignore')"
      ]
    },
    {
      "cell_type": "code",
      "execution_count": 7,
      "metadata": {
        "colab": {
          "base_uri": "https://localhost:8080/"
        },
        "id": "P29Mv40BPul5",
        "outputId": "8c40f824-565e-4b6c-d9e9-e8e77f2026af"
      },
      "outputs": [
        {
          "name": "stderr",
          "output_type": "stream",
          "text": [
            "WARNING:tensorflow:From <ipython-input-7-17bb7203622b>:1: is_gpu_available (from tensorflow.python.framework.test_util) is deprecated and will be removed in a future version.\n",
            "Instructions for updating:\n",
            "Use `tf.config.list_physical_devices('GPU')` instead.\n"
          ]
        },
        {
          "data": {
            "text/plain": [
              "True"
            ]
          },
          "execution_count": 7,
          "metadata": {},
          "output_type": "execute_result"
        }
      ],
      "source": [
        "tf.test.is_gpu_available()"
      ]
    },
    {
      "cell_type": "code",
      "execution_count": 8,
      "metadata": {
        "id": "djc988zmPul7"
      },
      "outputs": [],
      "source": [
        "batchsize=8"
      ]
    },
    {
      "cell_type": "code",
      "execution_count": 9,
      "metadata": {
        "colab": {
          "base_uri": "https://localhost:8080/"
        },
        "id": "DT1GWGnSPul7",
        "outputId": "f0bb5b3d-b35f-4de1-db3f-9da192801de2"
      },
      "outputs": [
        {
          "name": "stdout",
          "output_type": "stream",
          "text": [
            "Found 50940 images belonging to 2 classes.\n",
            "Found 12733 images belonging to 2 classes.\n"
          ]
        }
      ],
      "source": [
        "train_datagen= ImageDataGenerator(rescale=1./255, rotation_range=0.2,shear_range=0.2,\n",
        "    zoom_range=0.2,width_shift_range=0.2,\n",
        "    height_shift_range=0.2, validation_split=0.2)\n",
        "\n",
        "train_data= train_datagen.flow_from_directory(r'/tmp/mrl/train',\n",
        "                                target_size=(80,80),batch_size=batchsize,class_mode='categorical',subset='training' )\n",
        "\n",
        "validation_data= train_datagen.flow_from_directory(r'/tmp/mrl/train',\n",
        "                                target_size=(80,80),batch_size=batchsize,class_mode='categorical', subset='validation')"
      ]
    },
    {
      "cell_type": "code",
      "execution_count": 10,
      "metadata": {
        "colab": {
          "base_uri": "https://localhost:8080/"
        },
        "id": "tFC0zuRfPul7",
        "outputId": "fa8d07ed-3219-4a09-f740-5618139b683a"
      },
      "outputs": [
        {
          "name": "stdout",
          "output_type": "stream",
          "text": [
            "Found 21225 images belonging to 2 classes.\n"
          ]
        }
      ],
      "source": [
        "test_datagen = ImageDataGenerator(rescale=1./255)\n",
        "\n",
        "test_data = test_datagen.flow_from_directory(r'/tmp/mrl/test',\n",
        "                                target_size=(80,80),batch_size=batchsize,class_mode='categorical')"
      ]
    },
    {
      "cell_type": "code",
      "execution_count": 11,
      "metadata": {
        "id": "J6Ii4GHvPul8"
      },
      "outputs": [],
      "source": [
        "# Creating a Custom CNN Model:\n",
        "model_cnn = Sequential()\n",
        "model_cnn.add(Conv2D(32, (3, 3), activation='relu', input_shape=(80, 80, 3)))\n",
        "model_cnn.add(MaxPooling2D(2, 2))\n",
        "model_cnn.add(Conv2D(64, (3, 3), activation='relu'))\n",
        "model_cnn.add(MaxPooling2D(2, 2))\n",
        "model_cnn.add(Conv2D(128, (3, 3), activation='relu'))\n",
        "model_cnn.add(MaxPooling2D(2, 2))\n",
        "model_cnn.add(Flatten())\n",
        "model_cnn.add(Dense(64, activation='relu'))\n",
        "model_cnn.add(Dropout(0.5))\n",
        "model_cnn.add(Dense(2, activation='softmax'))"
      ]
    },
    {
      "cell_type": "code",
      "execution_count": 12,
      "metadata": {
        "colab": {
          "base_uri": "https://localhost:8080/"
        },
        "id": "grStUlt4Pul8",
        "outputId": "d267a253-a77a-47d0-9143-9bf288a2f466"
      },
      "outputs": [
        {
          "name": "stdout",
          "output_type": "stream",
          "text": [
            "Model: \"sequential\"\n",
            "_________________________________________________________________\n",
            " Layer (type)                Output Shape              Param #   \n",
            "=================================================================\n",
            " conv2d (Conv2D)             (None, 78, 78, 32)        896       \n",
            "                                                                 \n",
            " max_pooling2d (MaxPooling2  (None, 39, 39, 32)        0         \n",
            " D)                                                              \n",
            "                                                                 \n",
            " conv2d_1 (Conv2D)           (None, 37, 37, 64)        18496     \n",
            "                                                                 \n",
            " max_pooling2d_1 (MaxPoolin  (None, 18, 18, 64)        0         \n",
            " g2D)                                                            \n",
            "                                                                 \n",
            " conv2d_2 (Conv2D)           (None, 16, 16, 128)       73856     \n",
            "                                                                 \n",
            " max_pooling2d_2 (MaxPoolin  (None, 8, 8, 128)         0         \n",
            " g2D)                                                            \n",
            "                                                                 \n",
            " flatten (Flatten)           (None, 8192)              0         \n",
            "                                                                 \n",
            " dense (Dense)               (None, 64)                524352    \n",
            "                                                                 \n",
            " dropout (Dropout)           (None, 64)                0         \n",
            "                                                                 \n",
            " dense_1 (Dense)             (None, 2)                 130       \n",
            "                                                                 \n",
            "=================================================================\n",
            "Total params: 617730 (2.36 MB)\n",
            "Trainable params: 617730 (2.36 MB)\n",
            "Non-trainable params: 0 (0.00 Byte)\n",
            "_________________________________________________________________\n"
          ]
        }
      ],
      "source": [
        "model_cnn.summary()"
      ]
    },
    {
      "cell_type": "code",
      "execution_count": 12,
      "metadata": {
        "id": "VYBNJFcWPul8"
      },
      "outputs": [],
      "source": []
    },
    {
      "cell_type": "code",
      "execution_count": 12,
      "metadata": {
        "id": "QQ4tle9cPul9"
      },
      "outputs": [],
      "source": []
    },
    {
      "cell_type": "code",
      "execution_count": 13,
      "metadata": {
        "id": "WbUKTd31Pul9"
      },
      "outputs": [],
      "source": [
        "from tensorflow.keras.callbacks import ModelCheckpoint,EarlyStopping, ReduceLROnPlateau"
      ]
    },
    {
      "cell_type": "code",
      "execution_count": 14,
      "metadata": {
        "id": "0V_7iEs1Pul9"
      },
      "outputs": [],
      "source": [
        "checkpoint = ModelCheckpoint(r'/tmp/mrl/cnn.h5',\n",
        "                            monitor='val_loss',save_best_only=True,verbose=3)\n",
        "\n",
        "#earlystop = EarlyStopping(monitor = 'val_loss', patience=7, verbose= 3, restore_best_weights=True)\n",
        "\n",
        "learning_rate = ReduceLROnPlateau(monitor= 'val_loss', patience=3, verbose= 3, )\n",
        "\n",
        "#callbacks=[checkpoint,earlystop,learning_rate]\n",
        "callbacks=[checkpoint,learning_rate]"
      ]
    },
    {
      "cell_type": "code",
      "execution_count": 14,
      "metadata": {
        "id": "bXwuvpQ7Pul9"
      },
      "outputs": [],
      "source": []
    },
    {
      "cell_type": "code",
      "execution_count": 15,
      "metadata": {
        "colab": {
          "base_uri": "https://localhost:8080/"
        },
        "id": "Mwv1qdhYPul-",
        "outputId": "f648a813-8c9f-48b8-ada4-8a3e50f8b94d"
      },
      "outputs": [
        {
          "name": "stdout",
          "output_type": "stream",
          "text": [
            "Epoch 1/25\n",
            "6365/6367 [============================>.] - ETA: 0s - loss: 0.4008 - accuracy: 0.8059\n",
            "Epoch 1: val_loss improved from inf to 0.53445, saving model to /tmp/mrl/cnn.h5\n",
            "6367/6367 [==============================] - 209s 30ms/step - loss: 0.4007 - accuracy: 0.8060 - val_loss: 0.5345 - val_accuracy: 0.8171 - lr: 0.0010\n",
            "Epoch 2/25\n",
            "6366/6367 [============================>.] - ETA: 0s - loss: 0.2009 - accuracy: 0.9259\n",
            "Epoch 2: val_loss improved from 0.53445 to 0.41979, saving model to /tmp/mrl/cnn.h5\n",
            "6367/6367 [==============================] - 194s 30ms/step - loss: 0.2008 - accuracy: 0.9259 - val_loss: 0.4198 - val_accuracy: 0.8488 - lr: 0.0010\n",
            "Epoch 3/25\n",
            "6366/6367 [============================>.] - ETA: 0s - loss: 0.1560 - accuracy: 0.9440\n",
            "Epoch 3: val_loss improved from 0.41979 to 0.28028, saving model to /tmp/mrl/cnn.h5\n",
            "6367/6367 [==============================] - 194s 30ms/step - loss: 0.1560 - accuracy: 0.9440 - val_loss: 0.2803 - val_accuracy: 0.8880 - lr: 0.0010\n",
            "Epoch 4/25\n",
            "6367/6367 [==============================] - ETA: 0s - loss: 0.1298 - accuracy: 0.9561\n",
            "Epoch 4: val_loss improved from 0.28028 to 0.27516, saving model to /tmp/mrl/cnn.h5\n",
            "6367/6367 [==============================] - 199s 31ms/step - loss: 0.1298 - accuracy: 0.9561 - val_loss: 0.2752 - val_accuracy: 0.8907 - lr: 0.0010\n",
            "Epoch 5/25\n",
            "6366/6367 [============================>.] - ETA: 0s - loss: 0.1128 - accuracy: 0.9608\n",
            "Epoch 5: val_loss did not improve from 0.27516\n",
            "6367/6367 [==============================] - 195s 31ms/step - loss: 0.1128 - accuracy: 0.9608 - val_loss: 0.3363 - val_accuracy: 0.8916 - lr: 0.0010\n",
            "Epoch 6/25\n",
            "6367/6367 [==============================] - ETA: 0s - loss: 0.1032 - accuracy: 0.9639\n",
            "Epoch 6: val_loss did not improve from 0.27516\n",
            "6367/6367 [==============================] - 190s 30ms/step - loss: 0.1032 - accuracy: 0.9639 - val_loss: 0.3433 - val_accuracy: 0.9003 - lr: 0.0010\n",
            "Epoch 7/25\n",
            "6366/6367 [============================>.] - ETA: 0s - loss: 0.0989 - accuracy: 0.9660\n",
            "Epoch 7: val_loss improved from 0.27516 to 0.19244, saving model to /tmp/mrl/cnn.h5\n",
            "6367/6367 [==============================] - 196s 31ms/step - loss: 0.0989 - accuracy: 0.9660 - val_loss: 0.1924 - val_accuracy: 0.9263 - lr: 0.0010\n",
            "Epoch 8/25\n",
            "6366/6367 [============================>.] - ETA: 0s - loss: 0.0922 - accuracy: 0.9683\n",
            "Epoch 8: val_loss did not improve from 0.19244\n",
            "6367/6367 [==============================] - 186s 29ms/step - loss: 0.0922 - accuracy: 0.9683 - val_loss: 0.2445 - val_accuracy: 0.9032 - lr: 0.0010\n",
            "Epoch 9/25\n",
            "6366/6367 [============================>.] - ETA: 0s - loss: 0.0884 - accuracy: 0.9702\n",
            "Epoch 9: val_loss did not improve from 0.19244\n",
            "6367/6367 [==============================] - 193s 30ms/step - loss: 0.0884 - accuracy: 0.9702 - val_loss: 0.2345 - val_accuracy: 0.9038 - lr: 0.0010\n",
            "Epoch 10/25\n",
            "6365/6367 [============================>.] - ETA: 0s - loss: 0.0858 - accuracy: 0.9697\n",
            "Epoch 10: val_loss improved from 0.19244 to 0.13731, saving model to /tmp/mrl/cnn.h5\n",
            "6367/6367 [==============================] - 193s 30ms/step - loss: 0.0858 - accuracy: 0.9697 - val_loss: 0.1373 - val_accuracy: 0.9470 - lr: 0.0010\n",
            "Epoch 11/25\n",
            "6367/6367 [==============================] - ETA: 0s - loss: 0.0808 - accuracy: 0.9725\n",
            "Epoch 11: val_loss did not improve from 0.13731\n",
            "6367/6367 [==============================] - 197s 31ms/step - loss: 0.0808 - accuracy: 0.9725 - val_loss: 0.2599 - val_accuracy: 0.9026 - lr: 0.0010\n",
            "Epoch 12/25\n",
            "6367/6367 [==============================] - ETA: 0s - loss: 0.0792 - accuracy: 0.9728\n",
            "Epoch 12: val_loss did not improve from 0.13731\n",
            "6367/6367 [==============================] - 193s 30ms/step - loss: 0.0792 - accuracy: 0.9728 - val_loss: 0.1865 - val_accuracy: 0.9402 - lr: 0.0010\n",
            "Epoch 13/25\n",
            "6366/6367 [============================>.] - ETA: 0s - loss: 0.0785 - accuracy: 0.9739\n",
            "Epoch 13: val_loss did not improve from 0.13731\n",
            "\n",
            "Epoch 13: ReduceLROnPlateau reducing learning rate to 0.00010000000474974513.\n",
            "6367/6367 [==============================] - 198s 31ms/step - loss: 0.0785 - accuracy: 0.9739 - val_loss: 0.1736 - val_accuracy: 0.9271 - lr: 0.0010\n",
            "Epoch 14/25\n",
            "6367/6367 [==============================] - ETA: 0s - loss: 0.0584 - accuracy: 0.9802\n",
            "Epoch 14: val_loss did not improve from 0.13731\n",
            "6367/6367 [==============================] - 183s 29ms/step - loss: 0.0584 - accuracy: 0.9802 - val_loss: 0.1774 - val_accuracy: 0.9437 - lr: 1.0000e-04\n",
            "Epoch 15/25\n",
            "6366/6367 [============================>.] - ETA: 0s - loss: 0.0551 - accuracy: 0.9818\n",
            "Epoch 15: val_loss did not improve from 0.13731\n",
            "6367/6367 [==============================] - 183s 29ms/step - loss: 0.0551 - accuracy: 0.9818 - val_loss: 0.1999 - val_accuracy: 0.9356 - lr: 1.0000e-04\n",
            "Epoch 16/25\n",
            "6367/6367 [==============================] - ETA: 0s - loss: 0.0505 - accuracy: 0.9829\n",
            "Epoch 16: val_loss did not improve from 0.13731\n",
            "\n",
            "Epoch 16: ReduceLROnPlateau reducing learning rate to 1.0000000474974514e-05.\n",
            "6367/6367 [==============================] - 197s 31ms/step - loss: 0.0505 - accuracy: 0.9829 - val_loss: 0.1839 - val_accuracy: 0.9347 - lr: 1.0000e-04\n",
            "Epoch 17/25\n",
            "6366/6367 [============================>.] - ETA: 0s - loss: 0.0515 - accuracy: 0.9829\n",
            "Epoch 17: val_loss did not improve from 0.13731\n",
            "6367/6367 [==============================] - 191s 30ms/step - loss: 0.0516 - accuracy: 0.9829 - val_loss: 0.1979 - val_accuracy: 0.9383 - lr: 1.0000e-05\n",
            "Epoch 18/25\n",
            "6366/6367 [============================>.] - ETA: 0s - loss: 0.0485 - accuracy: 0.9836\n",
            "Epoch 18: val_loss did not improve from 0.13731\n",
            "6367/6367 [==============================] - 182s 29ms/step - loss: 0.0485 - accuracy: 0.9836 - val_loss: 0.1843 - val_accuracy: 0.9380 - lr: 1.0000e-05\n",
            "Epoch 19/25\n",
            "6366/6367 [============================>.] - ETA: 0s - loss: 0.0499 - accuracy: 0.9836\n",
            "Epoch 19: val_loss did not improve from 0.13731\n",
            "\n",
            "Epoch 19: ReduceLROnPlateau reducing learning rate to 1.0000000656873453e-06.\n",
            "6367/6367 [==============================] - 183s 29ms/step - loss: 0.0499 - accuracy: 0.9836 - val_loss: 0.1876 - val_accuracy: 0.9389 - lr: 1.0000e-05\n",
            "Epoch 20/25\n",
            "6365/6367 [============================>.] - ETA: 0s - loss: 0.0495 - accuracy: 0.9834\n",
            "Epoch 20: val_loss did not improve from 0.13731\n",
            "6367/6367 [==============================] - 195s 31ms/step - loss: 0.0495 - accuracy: 0.9834 - val_loss: 0.1884 - val_accuracy: 0.9372 - lr: 1.0000e-06\n",
            "Epoch 21/25\n",
            "6366/6367 [============================>.] - ETA: 0s - loss: 0.0476 - accuracy: 0.9836\n",
            "Epoch 21: val_loss did not improve from 0.13731\n",
            "6367/6367 [==============================] - 192s 30ms/step - loss: 0.0476 - accuracy: 0.9836 - val_loss: 0.1782 - val_accuracy: 0.9402 - lr: 1.0000e-06\n",
            "Epoch 22/25\n",
            "6365/6367 [============================>.] - ETA: 0s - loss: 0.0491 - accuracy: 0.9834\n",
            "Epoch 22: val_loss did not improve from 0.13731\n",
            "\n",
            "Epoch 22: ReduceLROnPlateau reducing learning rate to 1.0000001111620805e-07.\n",
            "6367/6367 [==============================] - 184s 29ms/step - loss: 0.0491 - accuracy: 0.9834 - val_loss: 0.1882 - val_accuracy: 0.9404 - lr: 1.0000e-06\n",
            "Epoch 23/25\n",
            "6367/6367 [==============================] - ETA: 0s - loss: 0.0502 - accuracy: 0.9829\n",
            "Epoch 23: val_loss did not improve from 0.13731\n",
            "6367/6367 [==============================] - 193s 30ms/step - loss: 0.0502 - accuracy: 0.9829 - val_loss: 0.1897 - val_accuracy: 0.9386 - lr: 1.0000e-07\n",
            "Epoch 24/25\n",
            "6366/6367 [============================>.] - ETA: 0s - loss: 0.0479 - accuracy: 0.9833\n",
            "Epoch 24: val_loss did not improve from 0.13731\n",
            "6367/6367 [==============================] - 196s 31ms/step - loss: 0.0479 - accuracy: 0.9834 - val_loss: 0.1962 - val_accuracy: 0.9392 - lr: 1.0000e-07\n",
            "Epoch 25/25\n",
            "6367/6367 [==============================] - ETA: 0s - loss: 0.0500 - accuracy: 0.9836\n",
            "Epoch 25: val_loss did not improve from 0.13731\n",
            "\n",
            "Epoch 25: ReduceLROnPlateau reducing learning rate to 1.000000082740371e-08.\n",
            "6367/6367 [==============================] - 193s 30ms/step - loss: 0.0500 - accuracy: 0.9836 - val_loss: 0.1769 - val_accuracy: 0.9419 - lr: 1.0000e-07\n"
          ]
        }
      ],
      "source": [
        "model_cnn.compile(optimizer='Adam', loss='categorical_crossentropy',metrics=['accuracy'])\n",
        "\n",
        "model_fit_cnn = model_cnn.fit_generator(\n",
        "    train_data,\n",
        "    steps_per_epoch=train_data.samples // batchsize,\n",
        "    validation_data=validation_data,\n",
        "    validation_steps=validation_data.samples // batchsize,\n",
        "    callbacks=callbacks,\n",
        "    epochs=25\n",
        ")"
      ]
    },
    {
      "cell_type": "code",
      "execution_count": 15,
      "metadata": {
        "id": "HEhqtszvPul-"
      },
      "outputs": [],
      "source": []
    },
    {
      "cell_type": "code",
      "execution_count": 18,
      "metadata": {
        "colab": {
          "base_uri": "https://localhost:8080/",
          "height": 904
        },
        "id": "TDcbcgTSPul-",
        "outputId": "c21b5cc7-df2b-4b11-9c29-a989a10e2950"
      },
      "outputs": [
        {
          "data": {
            "image/png": "[encoded data removed]",
            "text/plain": [
              "<Figure size 640x480 with 1 Axes>"
            ]
          },
          "metadata": {},
          "output_type": "display_data"
        },
        {
          "data": {
            "image/png": "[encoded data removed]",
            "text/plain": [
              "<Figure size 640x480 with 1 Axes>"
            ]
          },
          "metadata": {},
          "output_type": "display_data"
        },
        {
          "data": {
            "text/plain": [
              "<Figure size 640x480 with 0 Axes>"
            ]
          },
          "metadata": {},
          "output_type": "display_data"
        }
      ],
      "source": [
        "accuracy = model_fit_cnn.history['accuracy']\n",
        "val_accuracy = model_fit_cnn.history['val_accuracy']\n",
        "loss = model_fit_cnn.history['loss']\n",
        "val_loss = model_fit_cnn.history['val_loss']\n",
        "epochs = range(len(accuracy))\n",
        "\n",
        "\n",
        "\n",
        "plt.title(\"Training Accuracy\")\n",
        "plt.plot(epochs, accuracy, \"b\", label=\"trainning accuracy\")\n",
        "plt.plot(epochs, val_accuracy, \"r\", label=\"validation accuracy\")\n",
        "plt.legend()\n",
        "plt.show()\n",
        "plt.savefig(\"Accuracy.jpg\")\n",
        "\n",
        "\n",
        "plt.title(\"Training Loss \")\n",
        "plt.plot(epochs, loss, \"b\", label=\"trainning loss\")\n",
        "plt.plot(epochs, val_loss, \"r\", label=\"validation loss\")\n",
        "plt.legend()\n",
        "plt.show()\n",
        "plt.savefig(\"Loss.jpg\")"
      ]
    },
    {
      "cell_type": "code",
      "execution_count": null,
      "metadata": {
        "id": "KF0vvLcwPul_"
      },
      "outputs": [],
      "source": []
    },
    {
      "cell_type": "code",
      "execution_count": null,
      "metadata": {
        "id": "fFnTRFwmPul_"
      },
      "outputs": [],
      "source": []
    }
  ],
  "metadata": {
    "accelerator": "GPU",
    "colab": {
      "gpuType": "T4",
      "provenance": []
    },
    "kernelspec": {
      "display_name": "Python 3",
      "name": "python3"
    },
    "language_info": {
      "codemirror_mode": {
        "name": "ipython",
        "version": 3
      },
      "file_extension": ".py",
      "mimetype": "text/x-python",
      "name": "python",
      "nbconvert_exporter": "python",
      "pygments_lexer": "ipython3",
      "version": "3.7.9"
    }
  },
  "nbformat": 4,
  "nbformat_minor": 0
}
